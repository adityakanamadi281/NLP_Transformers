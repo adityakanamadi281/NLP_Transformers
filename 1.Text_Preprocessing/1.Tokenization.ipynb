{
 "cells": [
  {
   "cell_type": "markdown",
   "id": "96d28c7f-3ca1-4bfc-9dc2-86c890ea92e4",
   "metadata": {},
   "source": [
    "# Tokenization"
   ]
  },
  {
   "cell_type": "code",
   "execution_count": 1,
   "id": "9eff3508-72b6-4339-9443-b941c8a457a5",
   "metadata": {},
   "outputs": [
    {
     "name": "stdout",
     "output_type": "stream",
     "text": [
      "Requirement already satisfied: nltk in c:\\users\\adity\\anaconda3\\lib\\site-packages (3.9.1)\n",
      "Requirement already satisfied: click in c:\\users\\adity\\anaconda3\\lib\\site-packages (from nltk) (8.1.7)\n",
      "Requirement already satisfied: joblib in c:\\users\\adity\\anaconda3\\lib\\site-packages (from nltk) (1.4.2)\n",
      "Requirement already satisfied: regex>=2021.8.3 in c:\\users\\adity\\anaconda3\\lib\\site-packages (from nltk) (2024.9.11)\n",
      "Requirement already satisfied: tqdm in c:\\users\\adity\\anaconda3\\lib\\site-packages (from nltk) (4.66.5)\n",
      "Requirement already satisfied: colorama in c:\\users\\adity\\anaconda3\\lib\\site-packages (from click->nltk) (0.4.6)\n"
     ]
    }
   ],
   "source": [
    "! pip install nltk"
   ]
  },
  {
   "cell_type": "code",
   "execution_count": 2,
   "id": "70de2f0b-9037-43f5-be1e-74323bdb457e",
   "metadata": {},
   "outputs": [
    {
     "name": "stderr",
     "output_type": "stream",
     "text": [
      "[nltk_data] Downloading package punkt_tab to\n",
      "[nltk_data]     C:\\Users\\adity\\AppData\\Roaming\\nltk_data...\n",
      "[nltk_data]   Package punkt_tab is already up-to-date!\n"
     ]
    },
    {
     "data": {
      "text/plain": [
       "True"
      ]
     },
     "execution_count": 2,
     "metadata": {},
     "output_type": "execute_result"
    }
   ],
   "source": [
    "import nltk\n",
    "nltk.download('punkt_tab')"
   ]
  },
  {
   "cell_type": "code",
   "execution_count": 3,
   "id": "78ed1df7-aba5-4b6d-87fb-f48ce5dbfcce",
   "metadata": {},
   "outputs": [
    {
     "name": "stdout",
     "output_type": "stream",
     "text": [
      "['NLTK is a great NLP toolkit.', 'It makes processing text easy!']\n"
     ]
    }
   ],
   "source": [
    "from nltk.tokenize import sent_tokenize\n",
    "\n",
    "text = \"NLTK is a great NLP toolkit. It makes processing text easy!\"\n",
    "sentences = sent_tokenize(text)\n",
    "print(sentences)"
   ]
  },
  {
   "cell_type": "code",
   "execution_count": 4,
   "id": "11f8d3d8-9edf-4dc2-863c-3c046e55775d",
   "metadata": {},
   "outputs": [
    {
     "name": "stdout",
     "output_type": "stream",
     "text": [
      "['NLTK', 'is', 'a', 'great', 'NLP', 'toolkit', '.']\n"
     ]
    }
   ],
   "source": [
    "from nltk.tokenize import word_tokenize\n",
    "\n",
    "sentence = \"NLTK is a great NLP toolkit.\"\n",
    "words=word_tokenize(sentence)\n",
    "print(words)"
   ]
  },
  {
   "cell_type": "code",
   "execution_count": 5,
   "id": "41081842-dbec-4885-83c4-4c0a7a280986",
   "metadata": {},
   "outputs": [
    {
     "name": "stdout",
     "output_type": "stream",
     "text": [
      "['Don', \"'\", 't', 'split', 'contractions', '.', 'E', '-', 'mails', ':', 'hello', '@', 'example', '.', 'com', '!']\n"
     ]
    }
   ],
   "source": [
    "from nltk.tokenize import WordPunctTokenizer\n",
    "\n",
    "tokenizer=WordPunctTokenizer()\n",
    "tokens=tokenizer.tokenize(\n",
    "    \"Don't split contractions. E-mails: hello@example.com!\")\n",
    "print(tokens)"
   ]
  },
  {
   "cell_type": "code",
   "execution_count": 6,
   "id": "84d2857d-7426-4535-93c4-b67493780cfe",
   "metadata": {},
   "outputs": [
    {
     "name": "stdout",
     "output_type": "stream",
     "text": [
      "['Have', 'a', 'look', 'at', 'NLTK', \"'\", 's', 'tokenizer', '.']\n"
     ]
    }
   ],
   "source": [
    "from nltk.tokenize import TreebankWordTokenizer\n",
    "\n",
    "tokenizer_tokenizer=TreebankWordTokenizer()\n",
    "tokens_tokens = tokenizer.tokenize(\"Have a look at NLTK's tokenizer.\")\n",
    "print(tokens_tokens)"
   ]
  },
  {
   "cell_type": "code",
   "execution_count": 7,
   "id": "580bc91a-9075-4131-8892-3c28be8652ca",
   "metadata": {},
   "outputs": [
    {
     "name": "stdout",
     "output_type": "stream",
     "text": [
      "['Custom', 'rule', ':', 'keep', 'only', 'words', '&', 'numbers', ',', 'drop', 'punctuation', '!']\n"
     ]
    }
   ],
   "source": [
    "from nltk.tokenize import RegexpTokenizer\n",
    "\n",
    "tokenizer_tokenize=RegexpTokenizer(r'\\w+')\n",
    "tokens_tok=tokenizer.tokenize(\"Custom rule: keep only words & numbers, drop punctuation!\")\n",
    "print(tokens_tok)"
   ]
  },
  {
   "cell_type": "markdown",
   "id": "3ec15372-8631-4355-91d1-72bf34a208cf",
   "metadata": {},
   "source": [
    "# Tokenization , Stemming , Stopword Removal"
   ]
  },
  {
   "cell_type": "code",
   "execution_count": 16,
   "id": "618d8f66-81c3-4bec-aff7-f0797c231da5",
   "metadata": {},
   "outputs": [],
   "source": [
    "paragraph = \"\"\"Dharmasthala (listenⓘ) (earlier known as Kuduma[1]) is an Indian temple town on the banks of the Nethravathi River in the taluk of Belthangady of the Dakshina Kannada district in Karnataka, India.[2]\n",
    "\n",
    "The town is known for its centuries-old Dharmasthala Temple, devoted to the Hindu god Manjunatha. Some other temples and shrines are dedicated to Ammanavaru, Chandranath and the Dharma Daivas (guardian spirits of Dharma) — Kalarahu, Kalarkayi, Kumaraswamy and Kanyakumari. The temple is unusual, as it is a Hindu temple run by a Jain administration, and poojas are conducted by Hindu priests who follow the Vaishnava ideologies. Most Shiva temples are run by Shaivas as opposed to the Madhva Brahmins, devotees of Vishnu and his avatars. On average, the temple attracts around 2,000 pilgrims a day.\n",
    "\n",
    "In July 2025, allegations were made of mass graves at Dharmasthala containing the bodies of several missing women and children.[3][4] A Dalit caretaker came forward, claiming he was forced to bury hundreds of victims of rape and murder at the temple between 1996 and 2014.[5]\n",
    "\n",
    "Geography\n",
    "Dharmasthala is a temple town situated in Belthangady taluk of Dakshina Kannada district. It lies approximately 75 km east of Mangaluru and is nestled in the foothills of the Western Ghats, adjacent to the banks of the Netravathi River.[6]\n",
    "\n",
    "The region features undulating terrain characteristic of the coastal and Western Ghats boundary. The terrain gradually rises from low-lying plains near the coast into steep, forested hills toward the east. Dharmasthala itself sits at an average elevation of around 105 meters above sea level, with surrounding elevations ranging from approximately 44 meters to 337 meters.[7]\n",
    "\n",
    "The Netravathi River, which originates in the Kudremukh region of the Western Ghats, flows through Dharmasthala before converging with the Kumaradhara River at Uppinangadi and ultimately draining into the Arabian Sea near Mangaluru.[8]\n",
    "\n",
    "Museums\n",
    "Sri Manjunatheshwara Cultural and Research foundation, started by the Temple committee, is engaged in preserving ancient manuscripts and paintings.[9] A museum of antique objects called \"Manjusha Museum\" has been established, and a car museum houses a rare collection of vintage cars.[9]\n",
    "\n",
    "Traditional folk arts like Yakshagana and ethnic crafts like Navalgund carpets and Kasturi embroidery are revived by Heggade.[9] Shri Dharmasthala Manjunatheshwara Dharmothana Trust is engaged in renovation of temples across Karnataka and every year, a Sarva Dharma Sammelana (multi-religious meet) is held at Dharmasthala, where spiritual leaders from various faiths and schools participate.[9]\n",
    "\n",
    "Bahubali statue\n",
    "In 1973, a statue of Bahubali was carved out of a single rock and installed at Dharmasthala on a low hill near the Manjunatha Temple. It is about 39 feet (12 m) high, has a 13-foot high pedestal and weighs about 175 tonnes. This is one of the five stone statues of Bahubali in Karnataka.[10][11]\n",
    "\n",
    "Mass marriages\n",
    "To fight the dowry system and to cut unnecessary expenses involved in the conducting of weddings, Veerendra Heggade began free mass weddings in 1972. The weddings are held every year, usually during April.[12] As of 2013, 10,698 couples have been married in mass marriages arranged by the Dharmasthala Temple Committee.[12][9]\n",
    "\n",
    "Controversies\n",
    "Alleged Dharmasthala mass burials 1995-2014\n",
    "Main article: Dharmasthala mass burial case\n",
    "In July 2025, a whistleblower, an anonymous former sanitation worker at the Dharmasthala temple, publicly alleged that he was forced to bury or burn hundreds of bodies, primarily of women and girls, between 1995 and 2014. He claims that many of these bodies showed signs of sexual assault and murder, and he was threatened into silence and compliance by supervisors. He also stated that he saw evidence of victims, including schoolgirls in uniform and women with acid attack scars.[13] A Special Investigation Team (SIT) was created to probe the allegations. Human remains were found in only two of the 13 spots the complainant identified as graves. As the complainant's allegations came under scrutiny, his former wife and acquaintances claimed he was a habitual liar. He was arrested for perjury and lying under oath, and later told police that he had been coerced into making the allegations as part of a conspiracy.[14] The complainant had allegedly produced skull and bones in a meeting before a magistrate claiming that they belonged to a woman but forensic testing revealed that they were that of a male.[15][16] The identity of the complainant was also subsequently revealed due to the arrest.[17] \"\"\""
   ]
  },
  {
   "cell_type": "code",
   "execution_count": 24,
   "id": "0c7cf9c7-7d39-4deb-88d5-de290af75b2a",
   "metadata": {},
   "outputs": [
    {
     "data": {
      "text/plain": [
       "'Dharmasthala (listenⓘ) (earlier known as Kuduma[1]) is an Indian temple town on the banks of the Nethravathi River in the taluk of Belthangady of the Dakshina Kannada district in Karnataka, India.[2]\\n\\nThe town is known for its centuries-old Dharmasthala Temple, devoted to the Hindu god Manjunatha. Some other temples and shrines are dedicated to Ammanavaru, Chandranath and the Dharma Daivas (guardian spirits of Dharma) — Kalarahu, Kalarkayi, Kumaraswamy and Kanyakumari. The temple is unusual, as it is a Hindu temple run by a Jain administration, and poojas are conducted by Hindu priests who follow the Vaishnava ideologies. Most Shiva temples are run by Shaivas as opposed to the Madhva Brahmins, devotees of Vishnu and his avatars. On average, the temple attracts around 2,000 pilgrims a day.\\n\\nIn July 2025, allegations were made of mass graves at Dharmasthala containing the bodies of several missing women and children.[3][4] A Dalit caretaker came forward, claiming he was forced to bury hundreds of victims of rape and murder at the temple between 1996 and 2014.[5]\\n\\nGeography\\nDharmasthala is a temple town situated in Belthangady taluk of Dakshina Kannada district. It lies approximately 75 km east of Mangaluru and is nestled in the foothills of the Western Ghats, adjacent to the banks of the Netravathi River.[6]\\n\\nThe region features undulating terrain characteristic of the coastal and Western Ghats boundary. The terrain gradually rises from low-lying plains near the coast into steep, forested hills toward the east. Dharmasthala itself sits at an average elevation of around 105 meters above sea level, with surrounding elevations ranging from approximately 44 meters to 337 meters.[7]\\n\\nThe Netravathi River, which originates in the Kudremukh region of the Western Ghats, flows through Dharmasthala before converging with the Kumaradhara River at Uppinangadi and ultimately draining into the Arabian Sea near Mangaluru.[8]\\n\\nMuseums\\nSri Manjunatheshwara Cultural and Research foundation, started by the Temple committee, is engaged in preserving ancient manuscripts and paintings.[9] A museum of antique objects called \"Manjusha Museum\" has been established, and a car museum houses a rare collection of vintage cars.[9]\\n\\nTraditional folk arts like Yakshagana and ethnic crafts like Navalgund carpets and Kasturi embroidery are revived by Heggade.[9] Shri Dharmasthala Manjunatheshwara Dharmothana Trust is engaged in renovation of temples across Karnataka and every year, a Sarva Dharma Sammelana (multi-religious meet) is held at Dharmasthala, where spiritual leaders from various faiths and schools participate.[9]\\n\\nBahubali statue\\nIn 1973, a statue of Bahubali was carved out of a single rock and installed at Dharmasthala on a low hill near the Manjunatha Temple. It is about 39 feet (12 m) high, has a 13-foot high pedestal and weighs about 175 tonnes. This is one of the five stone statues of Bahubali in Karnataka.[10][11]\\n\\nMass marriages\\nTo fight the dowry system and to cut unnecessary expenses involved in the conducting of weddings, Veerendra Heggade began free mass weddings in 1972. The weddings are held every year, usually during April.[12] As of 2013, 10,698 couples have been married in mass marriages arranged by the Dharmasthala Temple Committee.[12][9]\\n\\nControversies\\nAlleged Dharmasthala mass burials 1995-2014\\nMain article: Dharmasthala mass burial case\\nIn July 2025, a whistleblower, an anonymous former sanitation worker at the Dharmasthala temple, publicly alleged that he was forced to bury or burn hundreds of bodies, primarily of women and girls, between 1995 and 2014. He claims that many of these bodies showed signs of sexual assault and murder, and he was threatened into silence and compliance by supervisors. He also stated that he saw evidence of victims, including schoolgirls in uniform and women with acid attack scars.[13] A Special Investigation Team (SIT) was created to probe the allegations. Human remains were found in only two of the 13 spots the complainant identified as graves. As the complainant\\'s allegations came under scrutiny, his former wife and acquaintances claimed he was a habitual liar. He was arrested for perjury and lying under oath, and later told police that he had been coerced into making the allegations as part of a conspiracy.[14] The complainant had allegedly produced skull and bones in a meeting before a magistrate claiming that they belonged to a woman but forensic testing revealed that they were that of a male.[15][16] The identity of the complainant was also subsequently revealed due to the arrest.[17] '"
      ]
     },
     "execution_count": 24,
     "metadata": {},
     "output_type": "execute_result"
    }
   ],
   "source": [
    "paragraph"
   ]
  },
  {
   "cell_type": "code",
   "execution_count": 29,
   "id": "df7de6de-67d2-438f-9ba3-0e85c9f6910e",
   "metadata": {},
   "outputs": [],
   "source": [
    "import nltk\n",
    "from nltk.stem import PorterStemmer\n",
    "from nltk.corpus import stopwords"
   ]
  },
  {
   "cell_type": "code",
   "execution_count": 31,
   "id": "aa101810-c09c-4ba1-8910-4c5d79c2d680",
   "metadata": {},
   "outputs": [
    {
     "name": "stderr",
     "output_type": "stream",
     "text": [
      "[nltk_data] Downloading package punkt_tab to\n",
      "[nltk_data]     C:\\Users\\adity\\AppData\\Roaming\\nltk_data...\n",
      "[nltk_data]   Package punkt_tab is already up-to-date!\n"
     ]
    },
    {
     "data": {
      "text/plain": [
       "True"
      ]
     },
     "execution_count": 31,
     "metadata": {},
     "output_type": "execute_result"
    }
   ],
   "source": [
    "nltk.download('punkt_tab')"
   ]
  },
  {
   "cell_type": "code",
   "execution_count": 33,
   "id": "fda87d1b-bfe6-415c-ba14-41e8476fd028",
   "metadata": {},
   "outputs": [
    {
     "data": {
      "text/plain": [
       "['Dharmasthala (listenⓘ) (earlier known as Kuduma[1]) is an Indian temple town on the banks of the Nethravathi River in the taluk of Belthangady of the Dakshina Kannada district in Karnataka, India.',\n",
       " '[2]\\n\\nThe town is known for its centuries-old Dharmasthala Temple, devoted to the Hindu god Manjunatha.',\n",
       " 'Some other temples and shrines are dedicated to Ammanavaru, Chandranath and the Dharma Daivas (guardian spirits of Dharma) — Kalarahu, Kalarkayi, Kumaraswamy and Kanyakumari.',\n",
       " 'The temple is unusual, as it is a Hindu temple run by a Jain administration, and poojas are conducted by Hindu priests who follow the Vaishnava ideologies.',\n",
       " 'Most Shiva temples are run by Shaivas as opposed to the Madhva Brahmins, devotees of Vishnu and his avatars.',\n",
       " 'On average, the temple attracts around 2,000 pilgrims a day.',\n",
       " 'In July 2025, allegations were made of mass graves at Dharmasthala containing the bodies of several missing women and children.',\n",
       " '[3][4] A Dalit caretaker came forward, claiming he was forced to bury hundreds of victims of rape and murder at the temple between 1996 and 2014.',\n",
       " '[5]\\n\\nGeography\\nDharmasthala is a temple town situated in Belthangady taluk of Dakshina Kannada district.',\n",
       " 'It lies approximately 75 km east of Mangaluru and is nestled in the foothills of the Western Ghats, adjacent to the banks of the Netravathi River.',\n",
       " '[6]\\n\\nThe region features undulating terrain characteristic of the coastal and Western Ghats boundary.',\n",
       " 'The terrain gradually rises from low-lying plains near the coast into steep, forested hills toward the east.',\n",
       " 'Dharmasthala itself sits at an average elevation of around 105 meters above sea level, with surrounding elevations ranging from approximately 44 meters to 337 meters.',\n",
       " '[7]\\n\\nThe Netravathi River, which originates in the Kudremukh region of the Western Ghats, flows through Dharmasthala before converging with the Kumaradhara River at Uppinangadi and ultimately draining into the Arabian Sea near Mangaluru.',\n",
       " '[8]\\n\\nMuseums\\nSri Manjunatheshwara Cultural and Research foundation, started by the Temple committee, is engaged in preserving ancient manuscripts and paintings.',\n",
       " '[9] A museum of antique objects called \"Manjusha Museum\" has been established, and a car museum houses a rare collection of vintage cars.',\n",
       " '[9]\\n\\nTraditional folk arts like Yakshagana and ethnic crafts like Navalgund carpets and Kasturi embroidery are revived by Heggade.',\n",
       " '[9] Shri Dharmasthala Manjunatheshwara Dharmothana Trust is engaged in renovation of temples across Karnataka and every year, a Sarva Dharma Sammelana (multi-religious meet) is held at Dharmasthala, where spiritual leaders from various faiths and schools participate.',\n",
       " '[9]\\n\\nBahubali statue\\nIn 1973, a statue of Bahubali was carved out of a single rock and installed at Dharmasthala on a low hill near the Manjunatha Temple.',\n",
       " 'It is about 39 feet (12 m) high, has a 13-foot high pedestal and weighs about 175 tonnes.',\n",
       " 'This is one of the five stone statues of Bahubali in Karnataka.',\n",
       " '[10][11]\\n\\nMass marriages\\nTo fight the dowry system and to cut unnecessary expenses involved in the conducting of weddings, Veerendra Heggade began free mass weddings in 1972.',\n",
       " 'The weddings are held every year, usually during April.',\n",
       " '[12] As of 2013, 10,698 couples have been married in mass marriages arranged by the Dharmasthala Temple Committee.',\n",
       " '[12][9]\\n\\nControversies\\nAlleged Dharmasthala mass burials 1995-2014\\nMain article: Dharmasthala mass burial case\\nIn July 2025, a whistleblower, an anonymous former sanitation worker at the Dharmasthala temple, publicly alleged that he was forced to bury or burn hundreds of bodies, primarily of women and girls, between 1995 and 2014.',\n",
       " 'He claims that many of these bodies showed signs of sexual assault and murder, and he was threatened into silence and compliance by supervisors.',\n",
       " 'He also stated that he saw evidence of victims, including schoolgirls in uniform and women with acid attack scars.',\n",
       " '[13] A Special Investigation Team (SIT) was created to probe the allegations.',\n",
       " 'Human remains were found in only two of the 13 spots the complainant identified as graves.',\n",
       " \"As the complainant's allegations came under scrutiny, his former wife and acquaintances claimed he was a habitual liar.\",\n",
       " 'He was arrested for perjury and lying under oath, and later told police that he had been coerced into making the allegations as part of a conspiracy.',\n",
       " '[14] The complainant had allegedly produced skull and bones in a meeting before a magistrate claiming that they belonged to a woman but forensic testing revealed that they were that of a male.',\n",
       " '[15][16] The identity of the complainant was also subsequently revealed due to the arrest.',\n",
       " '[17]']"
      ]
     },
     "execution_count": 33,
     "metadata": {},
     "output_type": "execute_result"
    }
   ],
   "source": [
    "sentence = sent_tokenize(paragraph)\n",
    "sentence"
   ]
  },
  {
   "cell_type": "code",
   "execution_count": 35,
   "id": "7dfa232c-4ba7-4cc2-830e-52ed2b153a27",
   "metadata": {},
   "outputs": [],
   "source": [
    "stemmer = PorterStemmer()"
   ]
  },
  {
   "cell_type": "code",
   "execution_count": 39,
   "id": "df47c265-7df7-48a8-b4ab-8ef12d118ccf",
   "metadata": {},
   "outputs": [
    {
     "data": {
      "text/plain": [
       "'drink'"
      ]
     },
     "execution_count": 39,
     "metadata": {},
     "output_type": "execute_result"
    }
   ],
   "source": [
    "stemmer.stem(\"Drinking\")"
   ]
  },
  {
   "cell_type": "code",
   "execution_count": 37,
   "id": "f2326a96-66c3-4e42-b59d-ccb01fe3871c",
   "metadata": {},
   "outputs": [
    {
     "name": "stderr",
     "output_type": "stream",
     "text": [
      "[nltk_data] Downloading package wordnet to\n",
      "[nltk_data]     C:\\Users\\adity\\AppData\\Roaming\\nltk_data...\n",
      "[nltk_data]   Package wordnet is already up-to-date!\n",
      "[nltk_data] Downloading package omw-1.4 to\n",
      "[nltk_data]     C:\\Users\\adity\\AppData\\Roaming\\nltk_data...\n",
      "[nltk_data]   Package omw-1.4 is already up-to-date!\n"
     ]
    },
    {
     "data": {
      "text/plain": [
       "True"
      ]
     },
     "execution_count": 37,
     "metadata": {},
     "output_type": "execute_result"
    }
   ],
   "source": [
    "nltk.download('wordnet')\n",
    "nltk.download('omw-1.4')"
   ]
  },
  {
   "cell_type": "code",
   "execution_count": 41,
   "id": "3d8a7738-2e11-4b77-bf80-bb7bcc2e6379",
   "metadata": {},
   "outputs": [],
   "source": [
    "from nltk.stem import WordNetLemmatizer\n",
    "lemmatizer=WordNetLemmatizer()"
   ]
  },
  {
   "cell_type": "code",
   "execution_count": 49,
   "id": "8e1924ca-da74-49f6-b0ee-619adf4de5d7",
   "metadata": {},
   "outputs": [
    {
     "data": {
      "text/plain": [
       "'go'"
      ]
     },
     "execution_count": 49,
     "metadata": {},
     "output_type": "execute_result"
    }
   ],
   "source": [
    "lemmatizer.lemmatize(\"goes\")"
   ]
  },
  {
   "cell_type": "code",
   "execution_count": 51,
   "id": "1d424a27-21a5-4333-8d06-c30c943e10b2",
   "metadata": {},
   "outputs": [
    {
     "data": {
      "text/plain": [
       "34"
      ]
     },
     "execution_count": 51,
     "metadata": {},
     "output_type": "execute_result"
    }
   ],
   "source": [
    "len(sentence)"
   ]
  },
  {
   "cell_type": "code",
   "execution_count": 53,
   "id": "37b90a63-59e6-46e4-959a-bc59543ce119",
   "metadata": {},
   "outputs": [],
   "source": [
    "import re"
   ]
  },
  {
   "cell_type": "code",
   "execution_count": 55,
   "id": "0c9d82d1-87cd-446f-997c-20500a06ddd3",
   "metadata": {},
   "outputs": [],
   "source": [
    "new_corpus=[]\n",
    "for i in range(len(sentence)):\n",
    "    review=re.sub('[^a-zA-Z]',' ',sentence[i])\n",
    "    review=review.lower()\n",
    "    review=review.split()\n",
    "    new_corpus.append(review)"
   ]
  },
  {
   "cell_type": "code",
   "execution_count": 59,
   "id": "fb333d40-d368-4cd8-86df-5cdf2357c3b5",
   "metadata": {},
   "outputs": [
    {
     "name": "stdout",
     "output_type": "stream",
     "text": [
      "[['dharmasthala', 'listen', 'earlier', 'known', 'as', 'kuduma', 'is', 'an', 'indian', 'temple', 'town', 'on', 'the', 'banks', 'of', 'the', 'nethravathi', 'river', 'in', 'the', 'taluk', 'of', 'belthangady', 'of', 'the', 'dakshina', 'kannada', 'district', 'in', 'karnataka', 'india'], ['the', 'town', 'is', 'known', 'for', 'its', 'centuries', 'old', 'dharmasthala', 'temple', 'devoted', 'to', 'the', 'hindu', 'god', 'manjunatha'], ['some', 'other', 'temples', 'and', 'shrines', 'are', 'dedicated', 'to', 'ammanavaru', 'chandranath', 'and', 'the', 'dharma', 'daivas', 'guardian', 'spirits', 'of', 'dharma', 'kalarahu', 'kalarkayi', 'kumaraswamy', 'and', 'kanyakumari'], ['the', 'temple', 'is', 'unusual', 'as', 'it', 'is', 'a', 'hindu', 'temple', 'run', 'by', 'a', 'jain', 'administration', 'and', 'poojas', 'are', 'conducted', 'by', 'hindu', 'priests', 'who', 'follow', 'the', 'vaishnava', 'ideologies'], ['most', 'shiva', 'temples', 'are', 'run', 'by', 'shaivas', 'as', 'opposed', 'to', 'the', 'madhva', 'brahmins', 'devotees', 'of', 'vishnu', 'and', 'his', 'avatars'], ['on', 'average', 'the', 'temple', 'attracts', 'around', 'pilgrims', 'a', 'day'], ['in', 'july', 'allegations', 'were', 'made', 'of', 'mass', 'graves', 'at', 'dharmasthala', 'containing', 'the', 'bodies', 'of', 'several', 'missing', 'women', 'and', 'children'], ['a', 'dalit', 'caretaker', 'came', 'forward', 'claiming', 'he', 'was', 'forced', 'to', 'bury', 'hundreds', 'of', 'victims', 'of', 'rape', 'and', 'murder', 'at', 'the', 'temple', 'between', 'and'], ['geography', 'dharmasthala', 'is', 'a', 'temple', 'town', 'situated', 'in', 'belthangady', 'taluk', 'of', 'dakshina', 'kannada', 'district'], ['it', 'lies', 'approximately', 'km', 'east', 'of', 'mangaluru', 'and', 'is', 'nestled', 'in', 'the', 'foothills', 'of', 'the', 'western', 'ghats', 'adjacent', 'to', 'the', 'banks', 'of', 'the', 'netravathi', 'river'], ['the', 'region', 'features', 'undulating', 'terrain', 'characteristic', 'of', 'the', 'coastal', 'and', 'western', 'ghats', 'boundary'], ['the', 'terrain', 'gradually', 'rises', 'from', 'low', 'lying', 'plains', 'near', 'the', 'coast', 'into', 'steep', 'forested', 'hills', 'toward', 'the', 'east'], ['dharmasthala', 'itself', 'sits', 'at', 'an', 'average', 'elevation', 'of', 'around', 'meters', 'above', 'sea', 'level', 'with', 'surrounding', 'elevations', 'ranging', 'from', 'approximately', 'meters', 'to', 'meters'], ['the', 'netravathi', 'river', 'which', 'originates', 'in', 'the', 'kudremukh', 'region', 'of', 'the', 'western', 'ghats', 'flows', 'through', 'dharmasthala', 'before', 'converging', 'with', 'the', 'kumaradhara', 'river', 'at', 'uppinangadi', 'and', 'ultimately', 'draining', 'into', 'the', 'arabian', 'sea', 'near', 'mangaluru'], ['museums', 'sri', 'manjunatheshwara', 'cultural', 'and', 'research', 'foundation', 'started', 'by', 'the', 'temple', 'committee', 'is', 'engaged', 'in', 'preserving', 'ancient', 'manuscripts', 'and', 'paintings'], ['a', 'museum', 'of', 'antique', 'objects', 'called', 'manjusha', 'museum', 'has', 'been', 'established', 'and', 'a', 'car', 'museum', 'houses', 'a', 'rare', 'collection', 'of', 'vintage', 'cars'], ['traditional', 'folk', 'arts', 'like', 'yakshagana', 'and', 'ethnic', 'crafts', 'like', 'navalgund', 'carpets', 'and', 'kasturi', 'embroidery', 'are', 'revived', 'by', 'heggade'], ['shri', 'dharmasthala', 'manjunatheshwara', 'dharmothana', 'trust', 'is', 'engaged', 'in', 'renovation', 'of', 'temples', 'across', 'karnataka', 'and', 'every', 'year', 'a', 'sarva', 'dharma', 'sammelana', 'multi', 'religious', 'meet', 'is', 'held', 'at', 'dharmasthala', 'where', 'spiritual', 'leaders', 'from', 'various', 'faiths', 'and', 'schools', 'participate'], ['bahubali', 'statue', 'in', 'a', 'statue', 'of', 'bahubali', 'was', 'carved', 'out', 'of', 'a', 'single', 'rock', 'and', 'installed', 'at', 'dharmasthala', 'on', 'a', 'low', 'hill', 'near', 'the', 'manjunatha', 'temple'], ['it', 'is', 'about', 'feet', 'm', 'high', 'has', 'a', 'foot', 'high', 'pedestal', 'and', 'weighs', 'about', 'tonnes'], ['this', 'is', 'one', 'of', 'the', 'five', 'stone', 'statues', 'of', 'bahubali', 'in', 'karnataka'], ['mass', 'marriages', 'to', 'fight', 'the', 'dowry', 'system', 'and', 'to', 'cut', 'unnecessary', 'expenses', 'involved', 'in', 'the', 'conducting', 'of', 'weddings', 'veerendra', 'heggade', 'began', 'free', 'mass', 'weddings', 'in'], ['the', 'weddings', 'are', 'held', 'every', 'year', 'usually', 'during', 'april'], ['as', 'of', 'couples', 'have', 'been', 'married', 'in', 'mass', 'marriages', 'arranged', 'by', 'the', 'dharmasthala', 'temple', 'committee'], ['controversies', 'alleged', 'dharmasthala', 'mass', 'burials', 'main', 'article', 'dharmasthala', 'mass', 'burial', 'case', 'in', 'july', 'a', 'whistleblower', 'an', 'anonymous', 'former', 'sanitation', 'worker', 'at', 'the', 'dharmasthala', 'temple', 'publicly', 'alleged', 'that', 'he', 'was', 'forced', 'to', 'bury', 'or', 'burn', 'hundreds', 'of', 'bodies', 'primarily', 'of', 'women', 'and', 'girls', 'between', 'and'], ['he', 'claims', 'that', 'many', 'of', 'these', 'bodies', 'showed', 'signs', 'of', 'sexual', 'assault', 'and', 'murder', 'and', 'he', 'was', 'threatened', 'into', 'silence', 'and', 'compliance', 'by', 'supervisors'], ['he', 'also', 'stated', 'that', 'he', 'saw', 'evidence', 'of', 'victims', 'including', 'schoolgirls', 'in', 'uniform', 'and', 'women', 'with', 'acid', 'attack', 'scars'], ['a', 'special', 'investigation', 'team', 'sit', 'was', 'created', 'to', 'probe', 'the', 'allegations'], ['human', 'remains', 'were', 'found', 'in', 'only', 'two', 'of', 'the', 'spots', 'the', 'complainant', 'identified', 'as', 'graves'], ['as', 'the', 'complainant', 's', 'allegations', 'came', 'under', 'scrutiny', 'his', 'former', 'wife', 'and', 'acquaintances', 'claimed', 'he', 'was', 'a', 'habitual', 'liar'], ['he', 'was', 'arrested', 'for', 'perjury', 'and', 'lying', 'under', 'oath', 'and', 'later', 'told', 'police', 'that', 'he', 'had', 'been', 'coerced', 'into', 'making', 'the', 'allegations', 'as', 'part', 'of', 'a', 'conspiracy'], ['the', 'complainant', 'had', 'allegedly', 'produced', 'skull', 'and', 'bones', 'in', 'a', 'meeting', 'before', 'a', 'magistrate', 'claiming', 'that', 'they', 'belonged', 'to', 'a', 'woman', 'but', 'forensic', 'testing', 'revealed', 'that', 'they', 'were', 'that', 'of', 'a', 'male'], ['the', 'identity', 'of', 'the', 'complainant', 'was', 'also', 'subsequently', 'revealed', 'due', 'to', 'the', 'arrest'], []]\n"
     ]
    }
   ],
   "source": [
    "print(new_corpus)"
   ]
  },
  {
   "cell_type": "code",
   "execution_count": 61,
   "id": "a7f23867-e6df-41a5-9490-697b61a3c9a8",
   "metadata": {},
   "outputs": [
    {
     "name": "stderr",
     "output_type": "stream",
     "text": [
      "[nltk_data] Downloading package stopwords to\n",
      "[nltk_data]     C:\\Users\\adity\\AppData\\Roaming\\nltk_data...\n",
      "[nltk_data]   Package stopwords is already up-to-date!\n"
     ]
    },
    {
     "data": {
      "text/plain": [
       "True"
      ]
     },
     "execution_count": 61,
     "metadata": {},
     "output_type": "execute_result"
    }
   ],
   "source": [
    "nltk.download('stopwords')"
   ]
  },
  {
   "cell_type": "code",
   "execution_count": 63,
   "id": "a9a71fec-0fd7-48c1-ae4d-1baeb1187666",
   "metadata": {},
   "outputs": [
    {
     "data": {
      "text/plain": [
       "['a',\n",
       " 'about',\n",
       " 'above',\n",
       " 'after',\n",
       " 'again',\n",
       " 'against',\n",
       " 'ain',\n",
       " 'all',\n",
       " 'am',\n",
       " 'an',\n",
       " 'and',\n",
       " 'any',\n",
       " 'are',\n",
       " 'aren',\n",
       " \"aren't\",\n",
       " 'as',\n",
       " 'at',\n",
       " 'be',\n",
       " 'because',\n",
       " 'been',\n",
       " 'before',\n",
       " 'being',\n",
       " 'below',\n",
       " 'between',\n",
       " 'both',\n",
       " 'but',\n",
       " 'by',\n",
       " 'can',\n",
       " 'couldn',\n",
       " \"couldn't\",\n",
       " 'd',\n",
       " 'did',\n",
       " 'didn',\n",
       " \"didn't\",\n",
       " 'do',\n",
       " 'does',\n",
       " 'doesn',\n",
       " \"doesn't\",\n",
       " 'doing',\n",
       " 'don',\n",
       " \"don't\",\n",
       " 'down',\n",
       " 'during',\n",
       " 'each',\n",
       " 'few',\n",
       " 'for',\n",
       " 'from',\n",
       " 'further',\n",
       " 'had',\n",
       " 'hadn',\n",
       " \"hadn't\",\n",
       " 'has',\n",
       " 'hasn',\n",
       " \"hasn't\",\n",
       " 'have',\n",
       " 'haven',\n",
       " \"haven't\",\n",
       " 'having',\n",
       " 'he',\n",
       " \"he'd\",\n",
       " \"he'll\",\n",
       " 'her',\n",
       " 'here',\n",
       " 'hers',\n",
       " 'herself',\n",
       " \"he's\",\n",
       " 'him',\n",
       " 'himself',\n",
       " 'his',\n",
       " 'how',\n",
       " 'i',\n",
       " \"i'd\",\n",
       " 'if',\n",
       " \"i'll\",\n",
       " \"i'm\",\n",
       " 'in',\n",
       " 'into',\n",
       " 'is',\n",
       " 'isn',\n",
       " \"isn't\",\n",
       " 'it',\n",
       " \"it'd\",\n",
       " \"it'll\",\n",
       " \"it's\",\n",
       " 'its',\n",
       " 'itself',\n",
       " \"i've\",\n",
       " 'just',\n",
       " 'll',\n",
       " 'm',\n",
       " 'ma',\n",
       " 'me',\n",
       " 'mightn',\n",
       " \"mightn't\",\n",
       " 'more',\n",
       " 'most',\n",
       " 'mustn',\n",
       " \"mustn't\",\n",
       " 'my',\n",
       " 'myself',\n",
       " 'needn',\n",
       " \"needn't\",\n",
       " 'no',\n",
       " 'nor',\n",
       " 'not',\n",
       " 'now',\n",
       " 'o',\n",
       " 'of',\n",
       " 'off',\n",
       " 'on',\n",
       " 'once',\n",
       " 'only',\n",
       " 'or',\n",
       " 'other',\n",
       " 'our',\n",
       " 'ours',\n",
       " 'ourselves',\n",
       " 'out',\n",
       " 'over',\n",
       " 'own',\n",
       " 're',\n",
       " 's',\n",
       " 'same',\n",
       " 'shan',\n",
       " \"shan't\",\n",
       " 'she',\n",
       " \"she'd\",\n",
       " \"she'll\",\n",
       " \"she's\",\n",
       " 'should',\n",
       " 'shouldn',\n",
       " \"shouldn't\",\n",
       " \"should've\",\n",
       " 'so',\n",
       " 'some',\n",
       " 'such',\n",
       " 't',\n",
       " 'than',\n",
       " 'that',\n",
       " \"that'll\",\n",
       " 'the',\n",
       " 'their',\n",
       " 'theirs',\n",
       " 'them',\n",
       " 'themselves',\n",
       " 'then',\n",
       " 'there',\n",
       " 'these',\n",
       " 'they',\n",
       " \"they'd\",\n",
       " \"they'll\",\n",
       " \"they're\",\n",
       " \"they've\",\n",
       " 'this',\n",
       " 'those',\n",
       " 'through',\n",
       " 'to',\n",
       " 'too',\n",
       " 'under',\n",
       " 'until',\n",
       " 'up',\n",
       " 've',\n",
       " 'very',\n",
       " 'was',\n",
       " 'wasn',\n",
       " \"wasn't\",\n",
       " 'we',\n",
       " \"we'd\",\n",
       " \"we'll\",\n",
       " \"we're\",\n",
       " 'were',\n",
       " 'weren',\n",
       " \"weren't\",\n",
       " \"we've\",\n",
       " 'what',\n",
       " 'when',\n",
       " 'where',\n",
       " 'which',\n",
       " 'while',\n",
       " 'who',\n",
       " 'whom',\n",
       " 'why',\n",
       " 'will',\n",
       " 'with',\n",
       " 'won',\n",
       " \"won't\",\n",
       " 'wouldn',\n",
       " \"wouldn't\",\n",
       " 'y',\n",
       " 'you',\n",
       " \"you'd\",\n",
       " \"you'll\",\n",
       " 'your',\n",
       " \"you're\",\n",
       " 'yours',\n",
       " 'yourself',\n",
       " 'yourselves',\n",
       " \"you've\"]"
      ]
     },
     "execution_count": 63,
     "metadata": {},
     "output_type": "execute_result"
    }
   ],
   "source": [
    "stopwords.words(\"english\")"
   ]
  },
  {
   "cell_type": "code",
   "execution_count": 67,
   "id": "19f4b34b-ded7-4651-8b42-a66961c1c04b",
   "metadata": {},
   "outputs": [],
   "source": [
    "cleaned_words = []\n",
    "\n",
    "for i in new_corpus:\n",
    "    # Ensure element is string\n",
    "    if isinstance(i, list):\n",
    "        i = \" \".join(map(str, i))   # flatten list to string\n",
    "\n",
    "    i = str(i)  # in case it's some other type\n",
    "\n",
    "    words = nltk.word_tokenize(i)\n",
    "    for word in words:\n",
    "        if word.lower() not in set(stopwords.words(\"english\")):\n",
    "            cleaned_words.append(word.lower())\n"
   ]
  },
  {
   "cell_type": "code",
   "execution_count": 73,
   "id": "54962b11-c0de-40d2-be8d-b08a8e7232cb",
   "metadata": {},
   "outputs": [
    {
     "name": "stdout",
     "output_type": "stream",
     "text": [
      "['dharmasthala', 'listen', 'earlier', 'known', 'kuduma', 'indian', 'temple', 'town', 'banks', 'nethravathi', 'river', 'taluk', 'belthangady', 'dakshina', 'kannada', 'district', 'karnataka', 'india', 'town', 'known', 'centuries', 'old', 'dharmasthala', 'temple', 'devoted', 'hindu', 'god', 'manjunatha', 'temples', 'shrines', 'dedicated', 'ammanavaru', 'chandranath', 'dharma', 'daivas', 'guardian', 'spirits', 'dharma', 'kalarahu', 'kalarkayi', 'kumaraswamy', 'kanyakumari', 'temple', 'unusual', 'hindu', 'temple', 'run', 'jain', 'administration', 'poojas', 'conducted', 'hindu', 'priests', 'follow', 'vaishnava', 'ideologies', 'shiva', 'temples', 'run', 'shaivas', 'opposed', 'madhva', 'brahmins', 'devotees', 'vishnu', 'avatars', 'average', 'temple', 'attracts', 'around', 'pilgrims', 'day', 'july', 'allegations', 'made', 'mass', 'graves', 'dharmasthala', 'containing', 'bodies', 'several', 'missing', 'women', 'children', 'dalit', 'caretaker', 'came', 'forward', 'claiming', 'forced', 'bury', 'hundreds', 'victims', 'rape', 'murder', 'temple', 'geography', 'dharmasthala', 'temple', 'town', 'situated', 'belthangady', 'taluk', 'dakshina', 'kannada', 'district', 'lies', 'approximately', 'km', 'east', 'mangaluru', 'nestled', 'foothills', 'western', 'ghats', 'adjacent', 'banks', 'netravathi', 'river', 'region', 'features', 'undulating', 'terrain', 'characteristic', 'coastal', 'western', 'ghats', 'boundary', 'terrain', 'gradually', 'rises', 'low', 'lying', 'plains', 'near', 'coast', 'steep', 'forested', 'hills', 'toward', 'east', 'dharmasthala', 'sits', 'average', 'elevation', 'around', 'meters', 'sea', 'level', 'surrounding', 'elevations', 'ranging', 'approximately', 'meters', 'meters', 'netravathi', 'river', 'originates', 'kudremukh', 'region', 'western', 'ghats', 'flows', 'dharmasthala', 'converging', 'kumaradhara', 'river', 'uppinangadi', 'ultimately', 'draining', 'arabian', 'sea', 'near', 'mangaluru', 'museums', 'sri', 'manjunatheshwara', 'cultural', 'research', 'foundation', 'started', 'temple', 'committee', 'engaged', 'preserving', 'ancient', 'manuscripts', 'paintings', 'museum', 'antique', 'objects', 'called', 'manjusha', 'museum', 'established', 'car', 'museum', 'houses', 'rare', 'collection', 'vintage', 'cars', 'traditional', 'folk', 'arts', 'like', 'yakshagana', 'ethnic', 'crafts', 'like', 'navalgund', 'carpets', 'kasturi', 'embroidery', 'revived', 'heggade', 'shri', 'dharmasthala', 'manjunatheshwara', 'dharmothana', 'trust', 'engaged', 'renovation', 'temples', 'across', 'karnataka', 'every', 'year', 'sarva', 'dharma', 'sammelana', 'multi', 'religious', 'meet', 'held', 'dharmasthala', 'spiritual', 'leaders', 'various', 'faiths', 'schools', 'participate', 'bahubali', 'statue', 'statue', 'bahubali', 'carved', 'single', 'rock', 'installed', 'dharmasthala', 'low', 'hill', 'near', 'manjunatha', 'temple', 'feet', 'high', 'foot', 'high', 'pedestal', 'weighs', 'tonnes', 'one', 'five', 'stone', 'statues', 'bahubali', 'karnataka', 'mass', 'marriages', 'fight', 'dowry', 'system', 'cut', 'unnecessary', 'expenses', 'involved', 'conducting', 'weddings', 'veerendra', 'heggade', 'began', 'free', 'mass', 'weddings', 'weddings', 'held', 'every', 'year', 'usually', 'april', 'couples', 'married', 'mass', 'marriages', 'arranged', 'dharmasthala', 'temple', 'committee', 'controversies', 'alleged', 'dharmasthala', 'mass', 'burials', 'main', 'article', 'dharmasthala', 'mass', 'burial', 'case', 'july', 'whistleblower', 'anonymous', 'former', 'sanitation', 'worker', 'dharmasthala', 'temple', 'publicly', 'alleged', 'forced', 'bury', 'burn', 'hundreds', 'bodies', 'primarily', 'women', 'girls', 'claims', 'many', 'bodies', 'showed', 'signs', 'sexual', 'assault', 'murder', 'threatened', 'silence', 'compliance', 'supervisors', 'also', 'stated', 'saw', 'evidence', 'victims', 'including', 'schoolgirls', 'uniform', 'women', 'acid', 'attack', 'scars', 'special', 'investigation', 'team', 'sit', 'created', 'probe', 'allegations', 'human', 'remains', 'found', 'two', 'spots', 'complainant', 'identified', 'graves', 'complainant', 'allegations', 'came', 'scrutiny', 'former', 'wife', 'acquaintances', 'claimed', 'habitual', 'liar', 'arrested', 'perjury', 'lying', 'oath', 'later', 'told', 'police', 'coerced', 'making', 'allegations', 'part', 'conspiracy', 'complainant', 'allegedly', 'produced', 'skull', 'bones', 'meeting', 'magistrate', 'claiming', 'belonged', 'woman', 'forensic', 'testing', 'revealed', 'male', 'identity', 'complainant', 'also', 'subsequently', 'revealed', 'due', 'arrest']\n"
     ]
    }
   ],
   "source": [
    "print(cleaned_words)"
   ]
  },
  {
   "cell_type": "markdown",
   "id": "707322d6-3afd-43fb-8fdb-fac9da8a4328",
   "metadata": {},
   "source": [
    "# Bag of Words"
   ]
  },
  {
   "cell_type": "code",
   "execution_count": 76,
   "id": "93afc99f-2933-4ef4-a509-2e7f2179606a",
   "metadata": {},
   "outputs": [],
   "source": [
    "from sklearn.feature_extraction.text import CountVectorizer\n",
    "cv=CountVectorizer()"
   ]
  },
  {
   "cell_type": "code",
   "execution_count": 78,
   "id": "03e038fb-f289-4dfa-81d5-bb8e7e316222",
   "metadata": {},
   "outputs": [],
   "source": [
    "x=cv.fit_transform(cleaned_words)"
   ]
  },
  {
   "cell_type": "code",
   "execution_count": 84,
   "id": "da38b032-849e-4698-b3e2-6f6e706114b7",
   "metadata": {},
   "outputs": [
    {
     "data": {
      "text/plain": [
       "{'dharmasthala': 81,\n",
       " 'listen': 162,\n",
       " 'earlier': 87,\n",
       " 'known': 151,\n",
       " 'kuduma': 153,\n",
       " 'indian': 138,\n",
       " 'temple': 268,\n",
       " 'town': 276,\n",
       " 'banks': 28,\n",
       " 'nethravathi': 191,\n",
       " 'river': 225,\n",
       " 'taluk': 266,\n",
       " 'belthangady': 31,\n",
       " 'dakshina': 74,\n",
       " 'kannada': 146,\n",
       " 'district': 83,\n",
       " 'karnataka': 148,\n",
       " 'india': 137,\n",
       " 'centuries': 48,\n",
       " 'old': 195,\n",
       " 'devoted': 78,\n",
       " 'hindu': 129,\n",
       " 'god': 119,\n",
       " 'manjunatha': 172,\n",
       " 'temples': 269,\n",
       " 'shrines': 243,\n",
       " 'dedicated': 77,\n",
       " 'ammanavaru': 9,\n",
       " 'chandranath': 49,\n",
       " 'dharma': 80,\n",
       " 'daivas': 73,\n",
       " 'guardian': 122,\n",
       " 'spirits': 252,\n",
       " 'kalarahu': 144,\n",
       " 'kalarkayi': 145,\n",
       " 'kumaraswamy': 155,\n",
       " 'kanyakumari': 147,\n",
       " 'unusual': 284,\n",
       " 'run': 227,\n",
       " 'jain': 142,\n",
       " 'administration': 4,\n",
       " 'poojas': 207,\n",
       " 'conducted': 62,\n",
       " 'priests': 209,\n",
       " 'follow': 105,\n",
       " 'vaishnava': 287,\n",
       " 'ideologies': 135,\n",
       " 'shiva': 240,\n",
       " 'shaivas': 239,\n",
       " 'opposed': 197,\n",
       " 'madhva': 166,\n",
       " 'brahmins': 35,\n",
       " 'devotees': 79,\n",
       " 'vishnu': 292,\n",
       " 'avatars': 25,\n",
       " 'average': 26,\n",
       " 'attracts': 24,\n",
       " 'around': 16,\n",
       " 'pilgrims': 204,\n",
       " 'day': 76,\n",
       " 'july': 143,\n",
       " 'allegations': 5,\n",
       " 'made': 165,\n",
       " 'mass': 179,\n",
       " 'graves': 121,\n",
       " 'containing': 65,\n",
       " 'bodies': 32,\n",
       " 'several': 237,\n",
       " 'missing': 183,\n",
       " 'women': 299,\n",
       " 'children': 51,\n",
       " 'dalit': 75,\n",
       " 'caretaker': 43,\n",
       " 'came': 41,\n",
       " 'forward': 112,\n",
       " 'claiming': 53,\n",
       " 'forced': 108,\n",
       " 'bury': 39,\n",
       " 'hundreds': 132,\n",
       " 'victims': 290,\n",
       " 'rape': 215,\n",
       " 'murder': 185,\n",
       " 'geography': 116,\n",
       " 'situated': 249,\n",
       " 'lies': 160,\n",
       " 'approximately': 13,\n",
       " 'km': 150,\n",
       " 'east': 88,\n",
       " 'mangaluru': 171,\n",
       " 'nestled': 190,\n",
       " 'foothills': 107,\n",
       " 'western': 295,\n",
       " 'ghats': 117,\n",
       " 'adjacent': 3,\n",
       " 'netravathi': 192,\n",
       " 'region': 217,\n",
       " 'features': 99,\n",
       " 'undulating': 281,\n",
       " 'terrain': 270,\n",
       " 'characteristic': 50,\n",
       " 'coastal': 56,\n",
       " 'boundary': 34,\n",
       " 'gradually': 120,\n",
       " 'rises': 224,\n",
       " 'low': 163,\n",
       " 'lying': 164,\n",
       " 'plains': 205,\n",
       " 'near': 189,\n",
       " 'coast': 55,\n",
       " 'steep': 260,\n",
       " 'forested': 110,\n",
       " 'hills': 128,\n",
       " 'toward': 275,\n",
       " 'sits': 248,\n",
       " 'elevation': 89,\n",
       " 'meters': 182,\n",
       " 'sea': 236,\n",
       " 'level': 158,\n",
       " 'surrounding': 264,\n",
       " 'elevations': 90,\n",
       " 'ranging': 214,\n",
       " 'originates': 198,\n",
       " 'kudremukh': 152,\n",
       " 'flows': 103,\n",
       " 'converging': 67,\n",
       " 'kumaradhara': 154,\n",
       " 'uppinangadi': 285,\n",
       " 'ultimately': 280,\n",
       " 'draining': 85,\n",
       " 'arabian': 15,\n",
       " 'museums': 187,\n",
       " 'sri': 255,\n",
       " 'manjunatheshwara': 173,\n",
       " 'cultural': 71,\n",
       " 'research': 221,\n",
       " 'foundation': 114,\n",
       " 'started': 256,\n",
       " 'committee': 59,\n",
       " 'engaged': 92,\n",
       " 'preserving': 208,\n",
       " 'ancient': 10,\n",
       " 'manuscripts': 175,\n",
       " 'paintings': 199,\n",
       " 'museum': 186,\n",
       " 'antique': 12,\n",
       " 'objects': 194,\n",
       " 'called': 40,\n",
       " 'manjusha': 174,\n",
       " 'established': 93,\n",
       " 'car': 42,\n",
       " 'houses': 130,\n",
       " 'rare': 216,\n",
       " 'collection': 58,\n",
       " 'vintage': 291,\n",
       " 'cars': 45,\n",
       " 'traditional': 277,\n",
       " 'folk': 104,\n",
       " 'arts': 21,\n",
       " 'like': 161,\n",
       " 'yakshagana': 301,\n",
       " 'ethnic': 94,\n",
       " 'crafts': 69,\n",
       " 'navalgund': 188,\n",
       " 'carpets': 44,\n",
       " 'kasturi': 149,\n",
       " 'embroidery': 91,\n",
       " 'revived': 223,\n",
       " 'heggade': 124,\n",
       " 'shri': 242,\n",
       " 'dharmothana': 82,\n",
       " 'trust': 278,\n",
       " 'renovation': 220,\n",
       " 'across': 2,\n",
       " 'every': 95,\n",
       " 'year': 302,\n",
       " 'sarva': 230,\n",
       " 'sammelana': 228,\n",
       " 'multi': 184,\n",
       " 'religious': 218,\n",
       " 'meet': 180,\n",
       " 'held': 125,\n",
       " 'spiritual': 253,\n",
       " 'leaders': 157,\n",
       " 'various': 288,\n",
       " 'faiths': 98,\n",
       " 'schools': 234,\n",
       " 'participate': 201,\n",
       " 'bahubali': 27,\n",
       " 'statue': 258,\n",
       " 'carved': 46,\n",
       " 'single': 246,\n",
       " 'rock': 226,\n",
       " 'installed': 139,\n",
       " 'hill': 127,\n",
       " 'feet': 100,\n",
       " 'high': 126,\n",
       " 'foot': 106,\n",
       " 'pedestal': 202,\n",
       " 'weighs': 294,\n",
       " 'tonnes': 274,\n",
       " 'one': 196,\n",
       " 'five': 102,\n",
       " 'stone': 261,\n",
       " 'statues': 259,\n",
       " 'marriages': 177,\n",
       " 'fight': 101,\n",
       " 'dowry': 84,\n",
       " 'system': 265,\n",
       " 'cut': 72,\n",
       " 'unnecessary': 283,\n",
       " 'expenses': 97,\n",
       " 'involved': 141,\n",
       " 'conducting': 63,\n",
       " 'weddings': 293,\n",
       " 'veerendra': 289,\n",
       " 'began': 29,\n",
       " 'free': 115,\n",
       " 'usually': 286,\n",
       " 'april': 14,\n",
       " 'couples': 68,\n",
       " 'married': 178,\n",
       " 'arranged': 17,\n",
       " 'controversies': 66,\n",
       " 'alleged': 6,\n",
       " 'burials': 37,\n",
       " 'main': 168,\n",
       " 'article': 20,\n",
       " 'burial': 36,\n",
       " 'case': 47,\n",
       " 'whistleblower': 296,\n",
       " 'anonymous': 11,\n",
       " 'former': 111,\n",
       " 'sanitation': 229,\n",
       " 'worker': 300,\n",
       " 'publicly': 213,\n",
       " 'burn': 38,\n",
       " 'primarily': 210,\n",
       " 'girls': 118,\n",
       " 'claims': 54,\n",
       " 'many': 176,\n",
       " 'showed': 241,\n",
       " 'signs': 244,\n",
       " 'sexual': 238,\n",
       " 'assault': 22,\n",
       " 'threatened': 272,\n",
       " 'silence': 245,\n",
       " 'compliance': 61,\n",
       " 'supervisors': 263,\n",
       " 'also': 8,\n",
       " 'stated': 257,\n",
       " 'saw': 231,\n",
       " 'evidence': 96,\n",
       " 'including': 136,\n",
       " 'schoolgirls': 233,\n",
       " 'uniform': 282,\n",
       " 'acid': 0,\n",
       " 'attack': 23,\n",
       " 'scars': 232,\n",
       " 'special': 251,\n",
       " 'investigation': 140,\n",
       " 'team': 267,\n",
       " 'sit': 247,\n",
       " 'created': 70,\n",
       " 'probe': 211,\n",
       " 'human': 131,\n",
       " 'remains': 219,\n",
       " 'found': 113,\n",
       " 'two': 279,\n",
       " 'spots': 254,\n",
       " 'complainant': 60,\n",
       " 'identified': 133,\n",
       " 'scrutiny': 235,\n",
       " 'wife': 297,\n",
       " 'acquaintances': 1,\n",
       " 'claimed': 52,\n",
       " 'habitual': 123,\n",
       " 'liar': 159,\n",
       " 'arrested': 19,\n",
       " 'perjury': 203,\n",
       " 'oath': 193,\n",
       " 'later': 156,\n",
       " 'told': 273,\n",
       " 'police': 206,\n",
       " 'coerced': 57,\n",
       " 'making': 169,\n",
       " 'part': 200,\n",
       " 'conspiracy': 64,\n",
       " 'allegedly': 7,\n",
       " 'produced': 212,\n",
       " 'skull': 250,\n",
       " 'bones': 33,\n",
       " 'meeting': 181,\n",
       " 'magistrate': 167,\n",
       " 'belonged': 30,\n",
       " 'woman': 298,\n",
       " 'forensic': 109,\n",
       " 'testing': 271,\n",
       " 'revealed': 222,\n",
       " 'male': 170,\n",
       " 'identity': 134,\n",
       " 'subsequently': 262,\n",
       " 'due': 86,\n",
       " 'arrest': 18}"
      ]
     },
     "execution_count": 84,
     "metadata": {},
     "output_type": "execute_result"
    }
   ],
   "source": [
    "vocab_size=cv.vocabulary_\n",
    "vocab_size"
   ]
  },
  {
   "cell_type": "code",
   "execution_count": null,
   "id": "f009374b-8573-46c1-9d71-ea28d051e5cc",
   "metadata": {},
   "outputs": [],
   "source": []
  }
 ],
 "metadata": {
  "kernelspec": {
   "display_name": "Python 3 (ipykernel)",
   "language": "python",
   "name": "python3"
  },
  "language_info": {
   "codemirror_mode": {
    "name": "ipython",
    "version": 3
   },
   "file_extension": ".py",
   "mimetype": "text/x-python",
   "name": "python",
   "nbconvert_exporter": "python",
   "pygments_lexer": "ipython3",
   "version": "3.12.3"
  }
 },
 "nbformat": 4,
 "nbformat_minor": 5
}
